{
 "cells": [
  {
   "cell_type": "markdown",
   "metadata": {},
   "source": [
    "# TickVault Python API Example Usage\n",
    "---\n",
    "Make sure to have registered and generated an API key on https://nasdaq-cx.ticksmith.com before starting this example. \n",
    "\n",
    "In the following code block, replace <span style=\"color:blue\"> &lt;USER_NAME&gt; </span> with the email you signed up with (within quotes) and <span style=\"color:blue\"> &lt;API_KEY&gt; </span> with the API key you generated (also within quotes).\n",
    "Then, to see what data you have access to, call the 'datasets' method:"
   ]
  },
  {
   "cell_type": "code",
   "execution_count": 1,
   "metadata": {
    "collapsed": false
   },
   "outputs": [
    {
     "data": {
      "text/plain": [
       "['cx_eod_stats', 'cx_hits', 'cx_rollup_1000', 'cx_rollup_60000']"
      ]
     },
     "execution_count": 1,
     "metadata": {},
     "output_type": "execute_result"
    }
   ],
   "source": [
    "from tickvaultpythonapi.nasdaqcxclient import NasdaqCxClient\n",
    "\n",
    "nasdaq = NasdaqCxClient(user_name=\"<USER_NAME>\", \n",
    "                        secret_key=\"<API_KEY>\")\n",
    "\n",
    "nasdaq.datasets()"
   ]
  },
  {
   "cell_type": "markdown",
   "metadata": {},
   "source": [
    "To see what columns exist in that dataset and filter by, call the 'describe' method on a dataset from above:"
   ]
  },
  {
   "cell_type": "code",
   "execution_count": 2,
   "metadata": {
    "collapsed": false,
    "scrolled": false
   },
   "outputs": [
    {
     "data": {
      "text/plain": [
       "{'ask_size': 'INT',\n",
       " 'askprice': 'DECIMAL',\n",
       " 'bid_size': 'INT',\n",
       " 'bidprice': 'DECIMAL',\n",
       " 'buyerid': 'STRING',\n",
       " 'crosstype': 'STRING',\n",
       " 'day': 'STRING',\n",
       " 'execution_venue': 'STRING',\n",
       " 'halted': 'STRING',\n",
       " 'lastprice': 'DECIMAL',\n",
       " 'line_type': 'STRING',\n",
       " 'linenumber': 'BIGINT',\n",
       " 'listing_market': 'STRING',\n",
       " 'sellerid': 'STRING',\n",
       " 'short_exempt': 'STRING',\n",
       " 'source': 'STRING',\n",
       " 'ticker': 'STRING',\n",
       " 'trade_attribute': 'STRING',\n",
       " 'trade_initiator_side': 'STRING',\n",
       " 'traderef': 'STRING',\n",
       " 'ts': 'BIGINT',\n",
       " 'volume': 'BIGINT',\n",
       " 'yyyymmdd': 'STRING'}"
      ]
     },
     "execution_count": 2,
     "metadata": {},
     "output_type": "execute_result"
    }
   ],
   "source": [
    "nasdaq.describe('cx_hits')"
   ]
  },
  {
   "cell_type": "markdown",
   "metadata": {},
   "source": [
    "To access the bid and ask prices for TD quotes when the ask and bid sizes were greater than 10, we will query the HiTS dataset (and print its length to make sure we got results):"
   ]
  },
  {
   "cell_type": "code",
   "execution_count": 6,
   "metadata": {
    "collapsed": false
   },
   "outputs": [
    {
     "data": {
      "text/plain": [
       "'126990'"
      ]
     },
     "execution_count": 6,
     "metadata": {},
     "output_type": "execute_result"
    }
   ],
   "source": [
    "result = nasdaq.query_hits(source=\"CHIX\", tickers=\"TD\",\n",
    "        fields=\"ts,askprice,bidprice\", start_time=20150302093000, end_time=20150302160000,\n",
    "        predicates=\"ask_size > 10 and bid_size > 10 and line_type like Q\",\n",
    "        limit=1000000)\n",
    "\n",
    "str(len(result))"
   ]
  },
  {
   "cell_type": "markdown",
   "metadata": {},
   "source": [
    "Let's convert the result to a pandas DataFrame for analytics:"
   ]
  },
  {
   "cell_type": "code",
   "execution_count": 7,
   "metadata": {
    "collapsed": false
   },
   "outputs": [
    {
     "name": "stdout",
     "output_type": "stream",
     "text": [
      "<class 'pandas.core.frame.DataFrame'>\n",
      "DatetimeIndex: 126990 entries, 2015-03-02 09:30:00.004000 to 2015-03-02 15:59:59.940000\n",
      "Data columns (total 2 columns):\n",
      "askprice    126990 non-null float64\n",
      "bidprice    126990 non-null float64\n",
      "dtypes: float64(2)\n",
      "memory usage: 2.9 MB\n"
     ]
    }
   ],
   "source": [
    "df = nasdaq.as_dataframe(result) \n",
    "\n",
    "df.info()"
   ]
  },
  {
   "cell_type": "markdown",
   "metadata": {},
   "source": [
    "Now to visualise the result:"
   ]
  },
  {
   "cell_type": "code",
   "execution_count": 8,
   "metadata": {
    "collapsed": false
   },
   "outputs": [
    {
     "data": {
      "text/plain": [
       "<matplotlib.axes._subplots.AxesSubplot at 0x7fc526d9d080>"
      ]
     },
     "execution_count": 8,
     "metadata": {},
     "output_type": "execute_result"
    },
    {
     "data": {
      "image/png": "[encoded data removed]",
      "text/plain": [
       "<matplotlib.figure.Figure at 0x7fc526d21a20>"
      ]
     },
     "metadata": {},
     "output_type": "display_data"
    }
   ],
   "source": [
    "%matplotlib inline\n",
    "\n",
    "df.plot()"
   ]
  }
 ],
 "metadata": {
  "kernelspec": {
   "display_name": "Python 3",
   "language": "python",
   "name": "python3"
  },
  "language_info": {
   "codemirror_mode": {
    "name": "ipython",
    "version": 3
   },
   "file_extension": ".py",
   "mimetype": "text/x-python",
   "name": "python",
   "nbconvert_exporter": "python",
   "pygments_lexer": "ipython3",
   "version": "3.6.0"
  }
 },
 "nbformat": 4,
 "nbformat_minor": 2
}
